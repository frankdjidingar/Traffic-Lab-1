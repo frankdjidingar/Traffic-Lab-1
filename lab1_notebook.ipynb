{
 "cells": [
  {
   "cell_type": "markdown",
   "metadata": {},
   "source": [
    "<hr style=\"border:2px solid gray\">\n",
    "\n",
    "## CIVIL-349 Traffic Engineering | Fall 2023\n",
    "\n",
    "#### Lab Assignment 1: Studying traffic flow properties through real trajectory datasets collected by a swarm of drones\n",
    "\n",
    "<hr style=\"border:2px solid gray\">"
   ]
  },
  {
   "cell_type": "code",
   "execution_count": 1,
   "metadata": {},
   "outputs": [],
   "source": [
    "import numpy as np\n",
    "import matplotlib.pyplot as plt\n",
    "from matplotlib.collections import LineCollection\n",
    "import pandas as pd\n",
    "from bisect import bisect_left"
   ]
  },
  {
   "cell_type": "markdown",
   "metadata": {},
   "source": [
    "Three functions that should help you solve the exercises are provided below. Please do not change anything in the following four code cells defining the functions `lab1_vehicle_data`, `lab1_plot_TS_diag`, `lab1_spacings` and `lab1_headways`."
   ]
  },
  {
   "cell_type": "code",
   "execution_count": 2,
   "metadata": {},
   "outputs": [],
   "source": [
    "def lab1_vehicle_data(vehID, lanes):\n",
    "    '''\n",
    "    Function to load vehicle trajectory data from the same directory as this notebook.\n",
    "    \n",
    "    Input:\n",
    "    vehID        int; ID of vehicle as specified in the file names\n",
    "    lanes        str; 'all' or 'central' according to the task\n",
    "    \n",
    "    Returns:\n",
    "    time         1D np.array; time instances where data is recorded for the specified vehicle\n",
    "    space        1D np.array; instantaneous positions at the specified time\n",
    "    speed        1D np.array; instantaneous speeds at the specified time\n",
    "    '''\n",
    "    data = pd.read_csv(lanes + '_lanes/' + f'trajectory{vehID}.csv')\n",
    "    time, space, speed = data['Time[s]'], data['Distance[m]'], data['Speed[km / h]']\n",
    "\n",
    "    time = time.dropna()\n",
    "    space = space.dropna()\n",
    "    speed = speed.dropna()\n",
    "    \n",
    "    return np.array(time), np.array(space), np.array(speed)"
   ]
  },
  {
   "cell_type": "code",
   "execution_count": 3,
   "metadata": {},
   "outputs": [],
   "source": [
    "def lab1_plot_TS_diag(time, space, speed):\n",
    "    '''\n",
    "    Function to generate the time-space diagram for one vehicle; colour bar for speed variation\n",
    "    \n",
    "    Input:\n",
    "    time         1D np.array; time instances where data is recorded for the specified vehicle\n",
    "    space        1D np.array; instantaneous positions at the specified time\n",
    "    speed        1D np.array; instantaneous speeds at the specified time\n",
    "    \n",
    "    Returns:\n",
    "    Plot of one vehicle trajectory\n",
    "    \n",
    "    Colorbar reference: \n",
    "    https://scipy-cookbook.readthedocs.io/items/Matplotlib_MulticoloredLine.html\n",
    "    '''\n",
    "    points = np.array([time, space]).T.reshape(-1, 1, 2)\n",
    "    segments = np.concatenate([points[:-1], points[1:]], axis=1)\n",
    "\n",
    "    lc = LineCollection(segments, cmap=plt.get_cmap('jet_r'), norm=plt.Normalize(0, 80))\n",
    "    lc.set_array(speed)\n",
    "    lc.set_linewidth(0.4)   \n",
    "    plt.gca().add_collection(lc)\n",
    "    \n",
    "    return"
   ]
  },
  {
   "cell_type": "code",
   "execution_count": 4,
   "metadata": {},
   "outputs": [],
   "source": [
    "def lab1_spacings(time, space, speed, all_t):\n",
    "    '''\n",
    "    Determines the position of a vehicle at specified times, through interpolation of \n",
    "    measurements at different times and using speed information.\n",
    "    \n",
    "    Input:\n",
    "    time         1D np.array; time instances where data is recorded for the specified vehicle\n",
    "    space        1D np.array; instantaneous positions at the specified time\n",
    "    speed        1D np.array; instantaneous speeds at the specified time\n",
    "    all_t        1D np.array; times where we would like to interpolate the position of a vehicle\n",
    "    \n",
    "    Returns:\n",
    "    spaces_at_t  1D np.array; positions of a vehicle at different times of interest\n",
    "\n",
    "    '''\n",
    "    # interpolate using space and speed to obtain location at every t_i + dt*i\n",
    "    # convert km/h /3.6 = m/s\n",
    "    idx_l = [bisect_left(time, t) - 1 for t in all_t]\n",
    "    spaces_at_t = (all_t - time[idx_l]) * (speed[idx_l] / 3.6) + space[idx_l]        \n",
    "\n",
    "    return spaces_at_t"
   ]
  },
  {
   "cell_type": "code",
   "execution_count": 5,
   "metadata": {},
   "outputs": [],
   "source": [
    "def lab1_headways(time, space, speed, all_s):\n",
    "    '''\n",
    "    Determines the time at which a vehicle passes specified locations, through interpolation of \n",
    "    measurements from nearby locations and using speed information.\n",
    "    \n",
    "    Input:\n",
    "    time         1D np.array; time instances where data is recorded for the specified vehicle\n",
    "    space        1D np.array; instantaneous positions at the specified time\n",
    "    speed        1D np.array; instantaneous speeds at the specified time\n",
    "    all_s        1D np.array; locations where we would like to interpolate the passing time of a vehicle\n",
    "    \n",
    "    Returns:\n",
    "    headways_at_s  1D np.array; times that a vehicle passes different stationary observers\n",
    "    '''\n",
    "    # interpolate using time and speed to obtain location at every s_i + ds*i\n",
    "    # convert km/h /3.6 = m/s\n",
    "    \n",
    "    idx_l = [bisect_left(space, s) - 1 for s in all_s]\n",
    "    headways_at_s = (all_s - space[idx_l]) / (speed[idx_l] / 3.6) + time[idx_l]        \n",
    "\n",
    "    return headways_at_s"
   ]
  },
  {
   "cell_type": "markdown",
   "metadata": {},
   "source": [
    "<hr style=\"border: 1px solid gray\">\n",
    "\n",
    "## Task 1: Time-Space Diagrams\n",
    "\n",
    "<hr style=\"border: 1px solid gray\">"
   ]
  },
  {
   "cell_type": "markdown",
   "metadata": {},
   "source": [
    "In the first task, you are asked to create the Time-Space diagram referring to the road segment of interest from $x = 0\\:\\text{m}$ to $x = 360\\:\\text{m}$, where the trajectories of all the vehicles observed will be plotted between $t = 0\\:\\text{sec}$ and $t = 900\\:\\text{sec}$. You will then use this data to perform some analysis on headway, spacing, queueing characteristics and answer questions listed in the lab handout."
   ]
  },
  {
   "cell_type": "markdown",
   "metadata": {},
   "source": [
    "### Task 1.1 Time-space diagram for all lanes\n",
    "\n",
    "<hr style=\"border: 1px solid gray\">"
   ]
  },
  {
   "cell_type": "markdown",
   "metadata": {},
   "source": [
    "Plot the trajectories of all the vehicles provided in the dataset in a single Time-Space diagram."
   ]
  },
  {
   "cell_type": "code",
   "execution_count": 6,
   "metadata": {},
   "outputs": [
    {
     "data": {
      "text/plain": [
       "<matplotlib.colorbar.Colorbar at 0x1341300d0>"
      ]
     },
     "execution_count": 6,
     "metadata": {},
     "output_type": "execute_result"
    },
    {
     "data": {
      "image/png": "[encoded data removed]",
      "text/plain": [
       "<Figure size 800x400 with 2 Axes>"
      ]
     },
     "metadata": {},
     "output_type": "display_data"
    }
   ],
   "source": [
    "# vehicle IDs are contained in the file names\n",
    "# note that they are numbered consecutively starting at 1\n",
    "num_of_files = 357\n",
    "\n",
    "# generate time-space diagram\n",
    "fig, ax = plt.subplots(figsize=(8, 4))\n",
    "\n",
    "#################### YOUR CODE HERE ####################\n",
    "# hint: you can use the functions defined above,\n",
    "#       lab1_vehicle_data and lab1_plot_TS_diag\n",
    "\n",
    "\n",
    "    \n",
    "########################################################\n",
    "\n",
    "# set axis limit and labels\n",
    "\n",
    "plt.xlim(0, 900)\n",
    "plt.ylim(0, 360)\n",
    "plt.xlabel('Time (seconds)')\n",
    "plt.ylabel('Space (metres)')\n",
    "\n",
    "# set colour bar with some empty lists\n",
    "\n",
    "points = np.array([[0, 0, 0], [0, 0, 0]]).T.reshape(-1, 1, 2)\n",
    "segments = np.concatenate([points[:-1], points[1:]], axis=1)\n",
    "lc_bar = LineCollection(segments, cmap=plt.get_cmap('jet_r'), norm=plt.Normalize(0, 80))\n",
    "fig.colorbar(lc_bar, ax=ax, label='Speed (km/h)')\n",
    "\n",
    "# save figure\n",
    "# fig.savefig('Figures/time_space_all.pdf', bbox_inches='tight', dpi=300)"
   ]
  },
  {
   "cell_type": "markdown",
   "metadata": {},
   "source": [
    " Based on the Time-Space diagram, answer the questions listed in 1.1.b."
   ]
  },
  {
   "cell_type": "markdown",
   "metadata": {},
   "source": [
    "### Task 1.2 Time-space diagram for central lane only\n",
    "\n",
    "<hr style=\"border: 1px solid gray\">"
   ]
  },
  {
   "cell_type": "markdown",
   "metadata": {},
   "source": [
    "Plot the trajectories of all the vehicles in the central lane provided in the dataset in a single Time-Space diagram, in the same way as in Task 1.1."
   ]
  },
  {
   "cell_type": "code",
   "execution_count": 7,
   "metadata": {},
   "outputs": [
    {
     "data": {
      "text/plain": [
       "<matplotlib.colorbar.Colorbar at 0x13429d9a0>"
      ]
     },
     "execution_count": 7,
     "metadata": {},
     "output_type": "execute_result"
    },
    {
     "data": {
      "image/png": "[encoded data removed]",
      "text/plain": [
       "<Figure size 800x400 with 2 Axes>"
      ]
     },
     "metadata": {},
     "output_type": "display_data"
    }
   ],
   "source": [
    "# vehicle IDs are contained in the file names\n",
    "# note that they are numbered consecutively starting at 1\n",
    "num_of_files = 46\n",
    "\n",
    "# generate time-space diagram\n",
    "fig, ax = plt.subplots(figsize=(8, 4))\n",
    "\n",
    "#################### YOUR CODE HERE ####################\n",
    "# hint: you can use the functions defined above,\n",
    "#       lab1_vehicle_data and lab1_plot_TS_diag\n",
    "\n",
    "\n",
    "    \n",
    "########################################################\n",
    "\n",
    "# set axis limit and labels\n",
    "\n",
    "plt.xlim(0, 900)\n",
    "plt.ylim(0, 360)\n",
    "plt.xlabel('Time (seconds)')\n",
    "plt.ylabel('Space (metres)')\n",
    "\n",
    "# set colour bar with some empty lists\n",
    "\n",
    "points = np.array([[0, 0, 0], [0, 0, 0]]).T.reshape(-1, 1, 2)\n",
    "segments = np.concatenate([points[:-1], points[1:]], axis=1)\n",
    "lc_bar = LineCollection(segments, cmap=plt.get_cmap('jet_r'), norm=plt.Normalize(0, 80))\n",
    "fig.colorbar(lc_bar, ax=ax, label='Speed (km/h)')\n",
    "\n",
    "\n",
    "# save figure\n",
    "# fig.savefig('Figures/time_space_central.pdf', bbox_inches='tight', dpi=300)"
   ]
  },
  {
   "cell_type": "markdown",
   "metadata": {},
   "source": [
    "Based on the Time-Space diagram answer the questions listed in 1.2.b."
   ]
  },
  {
   "cell_type": "markdown",
   "metadata": {},
   "source": [
    "Take the sequence of vehicle trajectories $[11, 12, 13, 14, 15]$ in the Time-Space diagram of question 1.2.a. Plot them separately in the same plot, and estimate the average spacing $\\overline{s}$ and the average headway $\\overline{h}$ as described in the lab handout."
   ]
  },
  {
   "cell_type": "code",
   "execution_count": 8,
   "metadata": {},
   "outputs": [],
   "source": [
    "vehicles = [11, 12, 13, 14, 15]"
   ]
  },
  {
   "cell_type": "markdown",
   "metadata": {},
   "source": [
    "#### Time-Space diagram"
   ]
  },
  {
   "cell_type": "code",
   "execution_count": 9,
   "metadata": {},
   "outputs": [
    {
     "data": {
      "text/plain": [
       "<matplotlib.colorbar.Colorbar at 0x134366b80>"
      ]
     },
     "execution_count": 9,
     "metadata": {},
     "output_type": "execute_result"
    },
    {
     "data": {
      "image/png": "[encoded data removed]",
      "text/plain": [
       "<Figure size 800x400 with 2 Axes>"
      ]
     },
     "metadata": {},
     "output_type": "display_data"
    }
   ],
   "source": [
    "# generate time-space diagram\n",
    "fig, ax = plt.subplots(figsize=(8, 4))\n",
    "\n",
    "#################### YOUR CODE HERE ####################\n",
    "# hint: you can use the functions defined above,\n",
    "#       lab1_vehicle_data and lab1_plot_TS_diag\n",
    "\n",
    "\n",
    "    \n",
    "########################################################\n",
    "\n",
    "# set axis limit and labels\n",
    "\n",
    "plt.xlim(0, 900)\n",
    "plt.ylim(0, 360)\n",
    "plt.xlabel('Time (seconds)')\n",
    "plt.ylabel('Space (metres)')\n",
    "\n",
    "# set colour bar with some empty lists\n",
    "\n",
    "points = np.array([[0, 0, 0], [0, 0, 0]]).T.reshape(-1, 1, 2)\n",
    "segments = np.concatenate([points[:-1], points[1:]], axis=1)\n",
    "lc_bar = LineCollection(segments, cmap=plt.get_cmap('jet_r'), norm=plt.Normalize(0, 80))\n",
    "fig.colorbar(lc_bar, ax=ax, label='Speed (km/h)')\n",
    "\n",
    "# save figure\n",
    "# fig.savefig('Figures/time_space_5veh.pdf', bbox_inches='tight', dpi=300)"
   ]
  },
  {
   "cell_type": "markdown",
   "metadata": {},
   "source": [
    "#### Average spacing over time"
   ]
  },
  {
   "cell_type": "markdown",
   "metadata": {},
   "source": [
    "Estimate the average spacing $\\overline{s}$ between the selected group of vehicles over time for the selected period. Plot a graph to visualize the evolution of the average spacing over time and calculate the mean and the standard deviation of the average spacing.\n",
    "\n",
    "When calculating the average spacing at a particular moment in time and the average headway (next part) at given points along the road, be careful about the order in which the five vehicles appear, e.g., when calculating the average headway at a location, make sure you check which vehicle comes first, which one comes second etc. "
   ]
  },
  {
   "cell_type": "code",
   "execution_count": 10,
   "metadata": {},
   "outputs": [],
   "source": [
    "t_i = 250           # start time [s]\n",
    "T = 100             # period of observation [s]\n",
    "dt = 1              # time between two observations [s]\n",
    "\n",
    "all_t = np.linspace(t_i, t_i+T, int(T/dt+1))\n",
    "\n",
    "#################### YOUR CODE HERE ####################\n",
    "# hint: you can use the functions defined above, \n",
    "#       lab1_vehicle_data and lab1_spacings\n",
    "\n",
    "\n",
    "\n",
    "########################################################"
   ]
  },
  {
   "cell_type": "code",
   "execution_count": 11,
   "metadata": {},
   "outputs": [
    {
     "data": {
      "image/png": "[encoded data removed]",
      "text/plain": [
       "<Figure size 600x400 with 1 Axes>"
      ]
     },
     "metadata": {},
     "output_type": "display_data"
    }
   ],
   "source": [
    "# create avg spacing vs time diagram\n",
    "\n",
    "fig, ax = plt.subplots(figsize=(6, 4))\n",
    "\n",
    "#################### YOUR CODE HERE ####################\n",
    "\n",
    "\n",
    "\n",
    "########################################################\n",
    "\n",
    "# fig.savefig('Figures/avg_spacing_time.pdf', bbox_inches='tight', dpi=300)"
   ]
  },
  {
   "cell_type": "code",
   "execution_count": 12,
   "metadata": {},
   "outputs": [
    {
     "name": "stdout",
     "output_type": "stream",
     "text": [
      "Mean average spacing: None\n",
      "Standard deviation of the average spacing: None\n"
     ]
    }
   ],
   "source": [
    "# calculate mean and standard deviation of the average spacing\n",
    "\n",
    "mean_avg_spacing = None\n",
    "std_avg_spacing  = None\n",
    "\n",
    "#################### YOUR CODE HERE ####################\n",
    "\n",
    "\n",
    "\n",
    "\n",
    "########################################################\n",
    "\n",
    "print('Mean average spacing: '+str(mean_avg_spacing))\n",
    "print('Standard deviation of the average spacing: '+str(std_avg_spacing))"
   ]
  },
  {
   "cell_type": "markdown",
   "metadata": {},
   "source": [
    "#### Average headway over the selected segment"
   ]
  },
  {
   "cell_type": "markdown",
   "metadata": {},
   "source": [
    "Estimate the average headway $\\overline{h}$ between the selected group of vehicles observed by 10 different stationary observers on the road. Plot a graph to visualize the evolution of the average headway over the length of the selected distance (defined by the 10 points of the stationary observers) and calculate the mean and the standard deviation of the average headway."
   ]
  },
  {
   "cell_type": "code",
   "execution_count": 13,
   "metadata": {},
   "outputs": [],
   "source": [
    "s_i = 10 # metres\n",
    "ds = 25\n",
    "num_s = 10\n",
    "all_s = np.linspace(s_i, s_i+(num_s-1)*ds, num_s)\n",
    "\n",
    "#################### YOUR CODE HERE ####################\n",
    "# hint: you can use the functions defined above, \n",
    "#       lab1_vehicle_data and lab1_headways\n",
    "\n",
    "\n",
    "\n",
    "########################################################\n"
   ]
  },
  {
   "cell_type": "code",
   "execution_count": 14,
   "metadata": {},
   "outputs": [
    {
     "data": {
      "image/png": "[encoded data removed]",
      "text/plain": [
       "<Figure size 600x400 with 1 Axes>"
      ]
     },
     "metadata": {},
     "output_type": "display_data"
    }
   ],
   "source": [
    "# create avg spacing vs time diagram\n",
    "\n",
    "fig, ax = plt.subplots(figsize=(6, 4))\n",
    "\n",
    "#################### YOUR CODE HERE ####################\n",
    "\n",
    "\n",
    "\n",
    "########################################################\n",
    "\n",
    "# fig.savefig('Figures/avg_spacing_time.pdf', bbox_inches='tight', dpi=300)"
   ]
  },
  {
   "cell_type": "code",
   "execution_count": 15,
   "metadata": {},
   "outputs": [
    {
     "name": "stdout",
     "output_type": "stream",
     "text": [
      "Mean of the average headway: None\n",
      "Standard deviation of the average headway: None\n"
     ]
    }
   ],
   "source": [
    "# calculate mean and standard deviation of the average headway\n",
    "\n",
    "mean_avg_headway = None\n",
    "std_avg_headway  = None\n",
    "\n",
    "#################### YOUR CODE HERE ####################\n",
    "\n",
    "\n",
    "\n",
    "########################################################\n",
    "\n",
    "print('Mean of the average headway: '+str(mean_avg_headway))\n",
    "print('Standard deviation of the average headway: '+str(std_avg_headway))"
   ]
  },
  {
   "cell_type": "markdown",
   "metadata": {},
   "source": [
    "Based on the previous two plots, answer the questions listed in 1.2.d."
   ]
  },
  {
   "cell_type": "markdown",
   "metadata": {},
   "source": [
    "### Task 1.3  Queueing analysis for all lanes\n",
    "\n",
    "<hr style=\"border: 1px solid gray\">"
   ]
  },
  {
   "cell_type": "markdown",
   "metadata": {},
   "source": [
    "You will now analyze the arrival and the departure of vehicles at $x_1=290\\:\\text{m}$ as an M/G/1 queuing system, for the entire duration between $t=0\\:\\text{sec}$ and $t=900\\:\\text{sec}$ as explained in the lab handout."
   ]
  },
  {
   "cell_type": "code",
   "execution_count": 16,
   "metadata": {},
   "outputs": [],
   "source": [
    "s_start = 160\n",
    "s_end = 290\n",
    "\n",
    "num_of_files = 357"
   ]
  },
  {
   "cell_type": "markdown",
   "metadata": {},
   "source": [
    "#### Estimating vehicle mean arrival rate $\\lambda\\:\\left[veh/second\\right]$"
   ]
  },
  {
   "cell_type": "markdown",
   "metadata": {},
   "source": [
    "Plot the histogram of the interarrival times between vehicles and comment on the goodness-of-fit of the Poisson distribution assumption"
   ]
  },
  {
   "cell_type": "code",
   "execution_count": 17,
   "metadata": {},
   "outputs": [
    {
     "data": {
      "image/png": "[encoded data removed]",
      "text/plain": [
       "<Figure size 600x400 with 1 Axes>"
      ]
     },
     "metadata": {},
     "output_type": "display_data"
    }
   ],
   "source": [
    "# create histogram of the interarrival times\n",
    "\n",
    "bins = 40\n",
    "\n",
    "fig, ax = plt.subplots(figsize=(6, 4))\n",
    "\n",
    "#################### YOUR CODE HERE ####################\n",
    "# hint: you can use the functions numpy.histogram\n",
    "\n",
    "\n",
    "\n",
    "########################################################\n",
    "\n",
    "# fig.savefig('Figures/interarrivals.pdf', bbox_inches='tight', dpi=300)"
   ]
  },
  {
   "cell_type": "markdown",
   "metadata": {},
   "source": [
    "To fit the exponential distribution function you will use the built-in functions `expon` and `curve_fit` of the $\\textbf{scipy}$ library. "
   ]
  },
  {
   "cell_type": "code",
   "execution_count": 18,
   "metadata": {},
   "outputs": [],
   "source": [
    "from scipy.stats import expon\n",
    "from scipy.optimize import curve_fit\n",
    "\n",
    "def exponential_pdf(x, scale):\n",
    "    return expon.pdf(x, scale=scale)"
   ]
  },
  {
   "cell_type": "markdown",
   "metadata": {},
   "source": [
    "Based on the created histogram, and by consulting the official documentation of the scipy library, create a suitable data set $\\mathcal{D}$ described by `x_data` and `y_data` as explained in the lab handout."
   ]
  },
  {
   "cell_type": "code",
   "execution_count": 19,
   "metadata": {},
   "outputs": [
    {
     "ename": "TypeError",
     "evalue": "object of type 'NoneType' has no len()",
     "output_type": "error",
     "traceback": [
      "\u001b[0;31m---------------------------------------------------------------------------\u001b[0m",
      "\u001b[0;31mTypeError\u001b[0m                                 Traceback (most recent call last)",
      "\u001b[1;32m/Users/minru/PhD/CIVIL-349_old351/2023/Labs/Lab1/Lab1_data_code_v2/lab1_notebook.ipynb Cell 42\u001b[0m line \u001b[0;36m1\n\u001b[1;32m      <a href='vscode-notebook-cell:/Users/minru/PhD/CIVIL-349_old351/2023/Labs/Lab1/Lab1_data_code_v2/lab1_notebook.ipynb#X56sZmlsZQ%3D%3D?line=1'>2</a>\u001b[0m y_data \u001b[39m=\u001b[39m \u001b[39mNone\u001b[39;00m\n\u001b[1;32m      <a href='vscode-notebook-cell:/Users/minru/PhD/CIVIL-349_old351/2023/Labs/Lab1/Lab1_data_code_v2/lab1_notebook.ipynb#X56sZmlsZQ%3D%3D?line=3'>4</a>\u001b[0m \u001b[39m#################### YOUR CODE HERE ####################\u001b[39;00m\n\u001b[1;32m      <a href='vscode-notebook-cell:/Users/minru/PhD/CIVIL-349_old351/2023/Labs/Lab1/Lab1_data_code_v2/lab1_notebook.ipynb#X56sZmlsZQ%3D%3D?line=4'>5</a>\u001b[0m \n\u001b[1;32m      <a href='vscode-notebook-cell:/Users/minru/PhD/CIVIL-349_old351/2023/Labs/Lab1/Lab1_data_code_v2/lab1_notebook.ipynb#X56sZmlsZQ%3D%3D?line=5'>6</a>\u001b[0m \n\u001b[1;32m      <a href='vscode-notebook-cell:/Users/minru/PhD/CIVIL-349_old351/2023/Labs/Lab1/Lab1_data_code_v2/lab1_notebook.ipynb#X56sZmlsZQ%3D%3D?line=6'>7</a>\u001b[0m \n\u001b[1;32m      <a href='vscode-notebook-cell:/Users/minru/PhD/CIVIL-349_old351/2023/Labs/Lab1/Lab1_data_code_v2/lab1_notebook.ipynb#X56sZmlsZQ%3D%3D?line=7'>8</a>\u001b[0m \u001b[39m########################################################\u001b[39;00m\n\u001b[1;32m      <a href='vscode-notebook-cell:/Users/minru/PhD/CIVIL-349_old351/2023/Labs/Lab1/Lab1_data_code_v2/lab1_notebook.ipynb#X56sZmlsZQ%3D%3D?line=8'>9</a>\u001b[0m \u001b[39m#Print data for verification \u001b[39;00m\n\u001b[0;32m---> <a href='vscode-notebook-cell:/Users/minru/PhD/CIVIL-349_old351/2023/Labs/Lab1/Lab1_data_code_v2/lab1_notebook.ipynb#X56sZmlsZQ%3D%3D?line=10'>11</a>\u001b[0m data_merged \u001b[39m=\u001b[39m np\u001b[39m.\u001b[39mzeros((\u001b[39mlen\u001b[39;49m(x_data), \u001b[39m2\u001b[39m))\n\u001b[1;32m     <a href='vscode-notebook-cell:/Users/minru/PhD/CIVIL-349_old351/2023/Labs/Lab1/Lab1_data_code_v2/lab1_notebook.ipynb#X56sZmlsZQ%3D%3D?line=11'>12</a>\u001b[0m data_merged[:,\u001b[39m0\u001b[39m] \u001b[39m=\u001b[39m x_data\n\u001b[1;32m     <a href='vscode-notebook-cell:/Users/minru/PhD/CIVIL-349_old351/2023/Labs/Lab1/Lab1_data_code_v2/lab1_notebook.ipynb#X56sZmlsZQ%3D%3D?line=12'>13</a>\u001b[0m data_merged[:,\u001b[39m1\u001b[39m] \u001b[39m=\u001b[39m y_data\n",
      "\u001b[0;31mTypeError\u001b[0m: object of type 'NoneType' has no len()"
     ]
    }
   ],
   "source": [
    "x_data = None\n",
    "y_data = None\n",
    "\n",
    "#################### YOUR CODE HERE ####################\n",
    "\n",
    "\n",
    "\n",
    "########################################################\n",
    "#Print data for verification \n",
    "\n",
    "data_merged = np.zeros((len(x_data), 2))\n",
    "data_merged[:,0] = x_data\n",
    "data_merged[:,1] = y_data\n",
    "print(data_merged)"
   ]
  },
  {
   "cell_type": "markdown",
   "metadata": {},
   "source": [
    "Using `x_data` and `y_data` fit a continuous probability distribution function of an exponentially distributed random variable and report the estimated $\\lambda$ value."
   ]
  },
  {
   "cell_type": "code",
   "execution_count": null,
   "metadata": {},
   "outputs": [
    {
     "name": "stdout",
     "output_type": "stream",
     "text": [
      "Vehicle mean arrival rate: None\n"
     ]
    }
   ],
   "source": [
    "lambda_hat = None\n",
    "\n",
    "#################### YOUR CODE HERE ####################\n",
    "\n",
    "\n",
    "\n",
    "########################################################\n",
    "\n",
    "print('Vehicle mean arrival rate: '+str(lambda_hat))\n"
   ]
  },
  {
   "cell_type": "markdown",
   "metadata": {},
   "source": [
    "In the same figure plot the empirical pdf obtained from the histogram in part b.1 and the one obtained using the fitting procedure and comment on the obtained result."
   ]
  },
  {
   "cell_type": "code",
   "execution_count": null,
   "metadata": {},
   "outputs": [
    {
     "data": {
      "image/png": "[encoded data removed]",
      "text/plain": [
       "<Figure size 432x288 with 1 Axes>"
      ]
     },
     "metadata": {
      "needs_background": "light"
     },
     "output_type": "display_data"
    }
   ],
   "source": [
    "fig, ax = plt.subplots(figsize=(6, 4))\n",
    "\n",
    "#################### YOUR CODE HERE ####################\n",
    "\n",
    "\n",
    "\n",
    "########################################################\n",
    "\n",
    "# fig.savefig('Figures/empirical_vs_obtained_pdf.pdf', bbox_inches='tight', dpi=300)"
   ]
  },
  {
   "cell_type": "markdown",
   "metadata": {},
   "source": [
    "Assume now that the service times follow the Erlang distribution. For the arrival rate $\\lambda$ found in b.3 plot the corresponding service rate $\\mu$ in [veh/second] as a function of the average queue length $L_Q\\in(0,\\infty)$ and comment on the obtained shape of the curve."
   ]
  },
  {
   "cell_type": "code",
   "execution_count": null,
   "metadata": {},
   "outputs": [
    {
     "data": {
      "image/png": "[encoded data removed]",
      "text/plain": [
       "<Figure size 432x288 with 1 Axes>"
      ]
     },
     "metadata": {
      "needs_background": "light"
     },
     "output_type": "display_data"
    }
   ],
   "source": [
    "L_q = np.linspace(0.1, 100, 10000)\n",
    "\n",
    "fig, ax = plt.subplots(figsize=(6, 4))\n",
    "\n",
    "#################### YOUR CODE HERE ####################\n",
    "\n",
    "\n",
    "\n",
    "########################################################\n",
    "\n",
    "# fig.savefig('Figures/service_rate.pdf', bbox_inches='tight', dpi=300)"
   ]
  },
  {
   "cell_type": "markdown",
   "metadata": {},
   "source": [
    "Finally, calculate the service rate that yields $L_Q=2\\text{ veh}$ and the theoretical average queuing time $w_Q$ in that case."
   ]
  },
  {
   "cell_type": "code",
   "execution_count": null,
   "metadata": {},
   "outputs": [
    {
     "name": "stdout",
     "output_type": "stream",
     "text": [
      "Service rate that yields average queue length of 2: None\n",
      "Corresponding queuing time: None\n"
     ]
    }
   ],
   "source": [
    "mu = None\n",
    "w_Q = None\n",
    "\n",
    "#################### YOUR CODE HERE ####################\n",
    "\n",
    "\n",
    "\n",
    "########################################################\n",
    "\n",
    "print('Service rate that yields average queue length of 2: '+str(mu))\n",
    "print('Corresponding queuing time: '+str(w_Q))"
   ]
  },
  {
   "cell_type": "markdown",
   "metadata": {},
   "source": [
    "<hr style=\"border: 1px solid gray\">\n",
    "\n",
    "## Task 2: Fundamental Diagram\n",
    "\n",
    "<hr style=\"border: 1px solid gray\">"
   ]
  },
  {
   "cell_type": "markdown",
   "metadata": {},
   "source": [
    "In this task, you will estimate and plot the Fundamental Diagram (FD) between flow $q$ and density $k$ for two segments of the given road, based on the given trajectory datasets and according to the instructions given in the lab handout."
   ]
  },
  {
   "cell_type": "code",
   "execution_count": null,
   "metadata": {},
   "outputs": [],
   "source": [
    "# parameters\n",
    "\n",
    "dt = 10             # time between observations [s]\n",
    "t_start = 0         # start time of observation [s]\n",
    "t_end = 900         # end time of obsevation [s]\n",
    "T = t_end - t_start # [s]\n",
    "\n",
    "L_A = 280           # location of observer A [m]\n",
    "L_B = L_A - 75      # location of observer B [m]\n",
    "\n",
    "all_times = np.linspace(0, T, int(T/dt)+1)\n",
    "\n",
    "num_of_files = 357"
   ]
  },
  {
   "cell_type": "markdown",
   "metadata": {},
   "source": [
    "#### Estimate the flow $q\\:\\left[\\text{veh/min}\\right]$"
   ]
  },
  {
   "cell_type": "code",
   "execution_count": null,
   "metadata": {},
   "outputs": [],
   "source": [
    "n_A = np.zeros(int(T/dt))   # number of vehicles passing observer, every dt seconds.\n",
    "n_B = np.zeros(int(T/dt))   # n_X[i] refers to the vehicle count between t=i*dt and t=(i+1)*dt\n",
    "\n",
    "q_A = np.zeros(int(T/dt)) \n",
    "q_B = np.zeros(int(T/dt))\n",
    "\n",
    "#################### YOUR CODE HERE ####################\n",
    "\n",
    "\n",
    "\n",
    "########################################################"
   ]
  },
  {
   "cell_type": "markdown",
   "metadata": {},
   "source": [
    "#### Estimate the density $k\\:\\left[\\text{veh/m}\\right]$"
   ]
  },
  {
   "cell_type": "markdown",
   "metadata": {},
   "source": [
    "To calculate the densities, you should first update arrays `x_A` and `x_B`, where the\n",
    "i-th element of the array (you can think of it as the i-th ‘bin’) can be calculated as the number of vehicles that were in the observed road segment from time $i\\cdot dt$ to time $(i+1)\\cdot dt$. The sentence about the midpoint of the time interval just tells you that we consider a particular vehicle to be present on the road segment in the time interval $[i\\cdot dt, (i+1)\\cdot dt]$ if it is present on the road segment\n",
    "at time $i\\cdot dt + 0.5 dt$, where $dt$ = 10 seconds. Therefore, all you need to do is to check for each vehicle in which time ‘bins’ of the two arrays `x_A` and `x_B` they appear and calculate the corresponding values of `k_A` and `k_B`; the `lab1_headways()` function can help you with this."
   ]
  },
  {
   "cell_type": "code",
   "execution_count": null,
   "metadata": {},
   "outputs": [],
   "source": [
    "L = 50                      # distance upstream to measure density [m]\n",
    "\n",
    "x_A = np.zeros(int(T/dt))   # number of vehicles inside a 50m segment, every dt seconds\n",
    "x_B = np.zeros(int(T/dt))   # x_Y[i] refers to the vehicle count between t=i*dt and t=(i+1)*dt\n",
    "\n",
    "k_A = np.zeros(int(T/dt))   \n",
    "k_B = np.zeros(int(T/dt))\n",
    "\n",
    "#################### YOUR CODE HERE #################### \n",
    "\n",
    "\n",
    "\n",
    "########################################################"
   ]
  },
  {
   "cell_type": "markdown",
   "metadata": {},
   "source": [
    "Plot the FDs for the two segments of the given road."
   ]
  },
  {
   "cell_type": "code",
   "execution_count": null,
   "metadata": {},
   "outputs": [
    {
     "name": "stderr",
     "output_type": "stream",
     "text": [
      "No artists with labels found to put in legend.  Note that artists whose label start with an underscore are ignored when legend() is called with no argument.\n"
     ]
    },
    {
     "data": {
      "text/plain": [
       "<matplotlib.legend.Legend at 0x13a9bfb80>"
      ]
     },
     "execution_count": 25,
     "metadata": {},
     "output_type": "execute_result"
    },
    {
     "data": {
      "image/png": "[encoded data removed]",
      "text/plain": [
       "<Figure size 600x400 with 1 Axes>"
      ]
     },
     "metadata": {},
     "output_type": "display_data"
    }
   ],
   "source": [
    "fig, ax = plt.subplots(figsize=(6, 4))\n",
    "\n",
    "#################### YOUR CODE HERE #################### \n",
    "\n",
    "\n",
    "\n",
    "########################################################\n",
    "\n",
    "plt.ylim(-5, 110)\n",
    "plt.legend()\n",
    "\n",
    "# fig.savefig('Figures/q_k.pdf', bbox_inches='tight', dpi=300)"
   ]
  },
  {
   "cell_type": "markdown",
   "metadata": {},
   "source": [
    "Based on the obtained FD, answer the questions listed in 2.b."
   ]
  },
  {
   "cell_type": "markdown",
   "metadata": {},
   "source": [
    "You will now try to formulate a mathematical way to describe the Fundamental Diagram and identify its basic properties like critical (maximum) flow $q_{\\text{crit}}$, density $k_{\\text{crit}}$ and jam density $k_{\\text{jam}}$ based on the method presented in the lab handout."
   ]
  },
  {
   "cell_type": "markdown",
   "metadata": {},
   "source": [
    "#### Four-point method for FD fitting with a $3^{rd}$ degree polymomial"
   ]
  },
  {
   "cell_type": "markdown",
   "metadata": {},
   "source": [
    "First merge all observed data points (from observers A and B) in a single dataset."
   ]
  },
  {
   "cell_type": "code",
   "execution_count": null,
   "metadata": {},
   "outputs": [],
   "source": [
    "q_all = None\n",
    "k_all = None\n",
    "\n",
    "#################### YOUR CODE HERE ####################\n",
    "\n",
    "\n",
    "\n",
    "########################################################"
   ]
  },
  {
   "cell_type": "markdown",
   "metadata": {},
   "source": [
    "Now complete the function for finding the four point that are the closest to the corner of the rectangle described in the lab handout."
   ]
  },
  {
   "cell_type": "code",
   "execution_count": null,
   "metadata": {},
   "outputs": [],
   "source": [
    "def lab1_FD_points(q_all, k_all):\n",
    "    '''\n",
    "    Find four data points that are closest to the corners \n",
    "    defined by the max. and min. of the data points.\n",
    "    \n",
    "    Input:\n",
    "    q_all        1D np.array; all flow data points from both stationary observers\n",
    "    k_all        1D np.array; all density data points from both stationary observers\n",
    "    \n",
    "    Returns:\n",
    "    points       2D np.array; shape=(4, 2). Four data points nearest to the corners\n",
    "    '''    \n",
    "    \n",
    "    points = np.zeros((4, 2))\n",
    "    \n",
    "    #################### YOUR CODE HERE ####################\n",
    "    \n",
    "    \n",
    "        \n",
    "    ########################################################\n",
    "    \n",
    "    return points"
   ]
  },
  {
   "cell_type": "markdown",
   "metadata": {},
   "source": [
    "Using this function prepare the data for the four-point method and fit a 3-rd degree polynomial function $y=ax^3+bx^2+cx+d$."
   ]
  },
  {
   "cell_type": "code",
   "execution_count": null,
   "metadata": {},
   "outputs": [
    {
     "ename": "TypeError",
     "evalue": "'NoneType' object is not subscriptable",
     "output_type": "error",
     "traceback": [
      "\u001b[0;31m---------------------------------------------------------------------------\u001b[0m",
      "\u001b[0;31mTypeError\u001b[0m                                 Traceback (most recent call last)",
      "\u001b[1;32m/Users/minru/PhD/CIVIL-349_old351/2023/Labs/Lab1/Lab1_Files_Python/Lab1_data_code/lab1_notebook.ipynb Cell 65\u001b[0m line \u001b[0;36m1\n\u001b[1;32m      <a href='vscode-notebook-cell:/Users/minru/PhD/CIVIL-349_old351/2023/Labs/Lab1/Lab1_Files_Python/Lab1_data_code/lab1_notebook.ipynb#Y120sZmlsZQ%3D%3D?line=2'>3</a>\u001b[0m z \u001b[39m=\u001b[39m \u001b[39mNone\u001b[39;00m    \u001b[39m# z is the vector of parameters z = [a,b,c,d]\u001b[39;00m\n\u001b[1;32m      <a href='vscode-notebook-cell:/Users/minru/PhD/CIVIL-349_old351/2023/Labs/Lab1/Lab1_Files_Python/Lab1_data_code/lab1_notebook.ipynb#Y120sZmlsZQ%3D%3D?line=4'>5</a>\u001b[0m \u001b[39m#################### YOUR CODE HERE ####################\u001b[39;00m\n\u001b[1;32m      <a href='vscode-notebook-cell:/Users/minru/PhD/CIVIL-349_old351/2023/Labs/Lab1/Lab1_Files_Python/Lab1_data_code/lab1_notebook.ipynb#Y120sZmlsZQ%3D%3D?line=5'>6</a>\u001b[0m \n\u001b[1;32m      <a href='vscode-notebook-cell:/Users/minru/PhD/CIVIL-349_old351/2023/Labs/Lab1/Lab1_Files_Python/Lab1_data_code/lab1_notebook.ipynb#Y120sZmlsZQ%3D%3D?line=6'>7</a>\u001b[0m \n\u001b[1;32m      <a href='vscode-notebook-cell:/Users/minru/PhD/CIVIL-349_old351/2023/Labs/Lab1/Lab1_Files_Python/Lab1_data_code/lab1_notebook.ipynb#Y120sZmlsZQ%3D%3D?line=7'>8</a>\u001b[0m \n\u001b[1;32m      <a href='vscode-notebook-cell:/Users/minru/PhD/CIVIL-349_old351/2023/Labs/Lab1/Lab1_Files_Python/Lab1_data_code/lab1_notebook.ipynb#Y120sZmlsZQ%3D%3D?line=8'>9</a>\u001b[0m \u001b[39m########################################################\u001b[39;00m\n\u001b[0;32m---> <a href='vscode-notebook-cell:/Users/minru/PhD/CIVIL-349_old351/2023/Labs/Lab1/Lab1_Files_Python/Lab1_data_code/lab1_notebook.ipynb#Y120sZmlsZQ%3D%3D?line=10'>11</a>\u001b[0m \u001b[39mprint\u001b[39m(\u001b[39m'\u001b[39m\u001b[39mParameters of the 3-rd order polynomial are a:\u001b[39m\u001b[39m'\u001b[39m\u001b[39m+\u001b[39m\u001b[39mstr\u001b[39m(z[\u001b[39m0\u001b[39;49m])\u001b[39m+\u001b[39m\u001b[39m'\u001b[39m\u001b[39m ,b:\u001b[39m\u001b[39m'\u001b[39m\u001b[39m+\u001b[39m\u001b[39mstr\u001b[39m(z[\u001b[39m1\u001b[39m])\u001b[39m+\u001b[39m\u001b[39m'\u001b[39m\u001b[39m ,c:\u001b[39m\u001b[39m'\u001b[39m\u001b[39m+\u001b[39m\u001b[39mstr\u001b[39m(z[\u001b[39m2\u001b[39m])\u001b[39m+\u001b[39m\u001b[39m'\u001b[39m\u001b[39m ,d:\u001b[39m\u001b[39m'\u001b[39m\u001b[39m+\u001b[39m\u001b[39mstr\u001b[39m(z[\u001b[39m3\u001b[39m]))\n",
      "\u001b[0;31mTypeError\u001b[0m: 'NoneType' object is not subscriptable"
     ]
    }
   ],
   "source": [
    "# prepare points and fit cubic polynomial of the form y=ax**3+bx**2+cx+d\n",
    "\n",
    "z = None    # z is the vector of parameters z = [a,b,c,d]\n",
    "\n",
    "#################### YOUR CODE HERE ####################\n",
    "\n",
    "\n",
    "\n",
    "########################################################\n",
    "\n",
    "print('Parameters of the 3-rd order polynomial are a:'+str(z[0])+' ,b:'+str(z[1])+' ,c:'+str(z[2])+' ,d:'+str(z[3]))"
   ]
  },
  {
   "cell_type": "markdown",
   "metadata": {},
   "source": [
    "Report the mathematical expression of the FD and plot it in the same graph from question 2.a."
   ]
  },
  {
   "cell_type": "code",
   "execution_count": null,
   "metadata": {},
   "outputs": [
    {
     "name": "stderr",
     "output_type": "stream",
     "text": [
      "No handles with labels found to put in legend.\n"
     ]
    },
    {
     "data": {
      "text/plain": [
       "<matplotlib.legend.Legend at 0x7fc4699a1e50>"
      ]
     },
     "execution_count": 29,
     "metadata": {},
     "output_type": "execute_result"
    },
    {
     "data": {
      "image/png": "[encoded data removed]",
      "text/plain": [
       "<Figure size 432x288 with 1 Axes>"
      ]
     },
     "metadata": {
      "needs_background": "light"
     },
     "output_type": "display_data"
    }
   ],
   "source": [
    "# generate points to draw the curve of the best fit \n",
    "\n",
    "fig, ax = plt.subplots(figsize=(6, 4))\n",
    "\n",
    "#################### YOUR CODE HERE ####################\n",
    "\n",
    "\n",
    "\n",
    "########################################################\n",
    "\n",
    "plt.ylim(-5, 110)\n",
    "plt.legend()\n",
    "\n",
    "# fig.savefig('Figures/q_k_poly.pdf', bbox_inches='tight', dpi=300)"
   ]
  },
  {
   "cell_type": "markdown",
   "metadata": {},
   "source": [
    "Based on the FD that you fitted in the previous question, answer the questions listed in 2.d."
   ]
  },
  {
   "cell_type": "markdown",
   "metadata": {},
   "source": [
    "<hr style=\"border: 1px solid gray\">\n",
    "\n",
    "## Task 3: Input-Output Diagrams\n",
    "\n",
    "<hr style=\"border: 1px solid gray\">"
   ]
  },
  {
   "cell_type": "markdown",
   "metadata": {},
   "source": [
    "In this task, you will create an Input-Output diagram for the given road segment over time over all lanes. The Input curve represents the cumulative number of vehicles that have entered the road segment of interest over time while the Output curve represents the cumulative number of vehicles that have exited the road segment over time, as explained in the lab handout."
   ]
  },
  {
   "cell_type": "code",
   "execution_count": null,
   "metadata": {},
   "outputs": [],
   "source": [
    "L_C = 230           # entrance, distance along road [m]\n",
    "L_D = 280           # exit, distance along road [m]\n",
    "\n",
    "t_start = 0         # start time of observation [s]\n",
    "t_end = 900         # end time of obsevation [s]\n",
    "T = t_end - t_start # [s]\n",
    "dt = 5              # time step [s]\n",
    "\n",
    "num_of_files = 357"
   ]
  },
  {
   "cell_type": "markdown",
   "metadata": {},
   "source": [
    "At the end of each time step $dt$, calculate the cumulative number of vehicles that have passed points C and D as described in 3.a."
   ]
  },
  {
   "cell_type": "code",
   "execution_count": null,
   "metadata": {},
   "outputs": [],
   "source": [
    "io_time = np.linspace(0, T, int(T/dt + 1))\n",
    "\n",
    "N_C = np.zeros_like(io_time)\n",
    "N_D = np.zeros_like(io_time)\n",
    "\n",
    "#################### YOUR CODE HERE ####################\n",
    "\n",
    "\n",
    "\n",
    "########################################################\n"
   ]
  },
  {
   "cell_type": "markdown",
   "metadata": {},
   "source": [
    "Based on the calculated values, plot the two sets of points as continuous lines in a common graph. The function `plt.step()` can be useful for creating a nice visualization."
   ]
  },
  {
   "cell_type": "code",
   "execution_count": null,
   "metadata": {},
   "outputs": [
    {
     "name": "stderr",
     "output_type": "stream",
     "text": [
      "No handles with labels found to put in legend.\n"
     ]
    },
    {
     "data": {
      "text/plain": [
       "<matplotlib.legend.Legend at 0x7fc488412340>"
      ]
     },
     "execution_count": 32,
     "metadata": {},
     "output_type": "execute_result"
    },
    {
     "data": {
      "image/png": "[encoded data removed]",
      "text/plain": [
       "<Figure size 432x288 with 1 Axes>"
      ]
     },
     "metadata": {
      "needs_background": "light"
     },
     "output_type": "display_data"
    }
   ],
   "source": [
    "fig, ax = plt.subplots(figsize=(6, 4))\n",
    "\n",
    "#################### YOUR CODE HERE ####################\n",
    "\n",
    "\n",
    "\n",
    "########################################################\n",
    "\n",
    "plt.xlim(0, 900)\n",
    "plt.ylim(0, 360)\n",
    "plt.legend()\n",
    "\n",
    "# fig.savefig('Figures/io_diagram.pdf', bbox_inches='tight', dpi=300)"
   ]
  },
  {
   "cell_type": "markdown",
   "metadata": {},
   "source": [
    "Based on the I/O diagram that you created answer the questions listed in 3.b."
   ]
  },
  {
   "cell_type": "markdown",
   "metadata": {},
   "source": [
    "#### Total time spent in the road segment by all vehicles"
   ]
  },
  {
   "cell_type": "markdown",
   "metadata": {},
   "source": [
    "Calculate the total time spent in the road segment by all vehicles during the time period considered for the I/O diagram (in $\\left[\\text{veh}\\cdot\\text{min}\\right]$)."
   ]
  },
  {
   "cell_type": "code",
   "execution_count": null,
   "metadata": {},
   "outputs": [
    {
     "name": "stdout",
     "output_type": "stream",
     "text": [
      "Total times spent in the road segment by all vehicles: None\n"
     ]
    }
   ],
   "source": [
    "TTS = None \n",
    "\n",
    "#################### YOUR CODE HERE ####################\n",
    "\n",
    "\n",
    "\n",
    "########################################################\n",
    "\n",
    "print('Total times spent in the road segment by all vehicles: '+str(TTS))"
   ]
  },
  {
   "cell_type": "markdown",
   "metadata": {},
   "source": [
    "#### Min, max, mean time that vehicles spend in this segment; plot distribution in histogram"
   ]
  },
  {
   "cell_type": "markdown",
   "metadata": {},
   "source": [
    "Using the trajectory data, estimate the minimum, maximum and the mean time that vehicles spend inside this road segment. Plot the distribution of the time spent in the form of a histogram and comment on the result."
   ]
  },
  {
   "cell_type": "code",
   "execution_count": null,
   "metadata": {},
   "outputs": [
    {
     "name": "stdout",
     "output_type": "stream",
     "text": [
      "Minimum time that a vehicle spent inside the road segment: None\n",
      "Maximum time that a vehicle spent inside the road segment: None\n",
      "Mean time that a vehicle spent inside the road segment: None\n"
     ]
    }
   ],
   "source": [
    "min_spent  = None\n",
    "max_spent  = None\n",
    "mean_spent = None \n",
    "\n",
    "#################### YOUR CODE HERE ####################\n",
    "\n",
    "\n",
    "\n",
    "########################################################\n",
    "\n",
    "print('Minimum time that a vehicle spent inside the road segment: '+str(min_spent))\n",
    "print('Maximum time that a vehicle spent inside the road segment: '+str(max_spent))\n",
    "print('Mean time that a vehicle spent inside the road segment: '+str(mean_spent))"
   ]
  },
  {
   "cell_type": "code",
   "execution_count": null,
   "metadata": {},
   "outputs": [
    {
     "data": {
      "text/plain": [
       "(0.0, 80.0)"
      ]
     },
     "execution_count": 35,
     "metadata": {},
     "output_type": "execute_result"
    },
    {
     "data": {
      "image/png": "[encoded data removed]",
      "text/plain": [
       "<Figure size 432x288 with 1 Axes>"
      ]
     },
     "metadata": {
      "needs_background": "light"
     },
     "output_type": "display_data"
    }
   ],
   "source": [
    "fig, ax = plt.subplots(figsize=(6, 4))\n",
    "\n",
    "#################### YOUR CODE HERE ####################\n",
    "\n",
    "\n",
    "\n",
    "########################################################\n",
    "\n",
    "plt.xlim(0, 80)\n",
    "\n",
    "# fig.savefig('Figures/hist_time_spent.pdf', bbox_inches='tight', dpi=300)"
   ]
  },
  {
   "cell_type": "markdown",
   "metadata": {},
   "source": [
    "#### Min, max, mean number of vehicles that are present in the segment over time; plot distribution in histogram"
   ]
  },
  {
   "cell_type": "markdown",
   "metadata": {},
   "source": [
    "Using the data that you plotted in the I/O diagram, estimate the minimum, maximum and mean number of vehicles that are present in the road segment over time. Note that you should begin your analysis at the time which the first vehicle(s) enter the road segment. Plot the distribution of the number of vehicles inside in the form of a histogram and comment on the results. When you create the plot, please adjust it based on the values you calculated. Also, please choose an arbitrary number of bins that allows you to nicely plot the results, for parts 3d and part 3e."
   ]
  },
  {
   "cell_type": "code",
   "execution_count": null,
   "metadata": {},
   "outputs": [
    {
     "name": "stdout",
     "output_type": "stream",
     "text": [
      "Minimum number of vehicles inside the road segment: None\n",
      "Maximum number of vehicles inside the road segment: None\n",
      "Mean number of vehicles inside the road segment: None\n"
     ]
    }
   ],
   "source": [
    "min_veh  = None\n",
    "max_veh  = None\n",
    "mean_veh = None\n",
    "\n",
    "#################### YOUR CODE HERE ####################\n",
    "\n",
    "\n",
    "\n",
    "########################################################\n",
    "\n",
    "print('Minimum number of vehicles inside the road segment: '+str(min_veh))\n",
    "print('Maximum number of vehicles inside the road segment: '+str(max_veh))\n",
    "print('Mean number of vehicles inside the road segment: '+str(mean_veh))"
   ]
  },
  {
   "cell_type": "code",
   "execution_count": null,
   "metadata": {
    "scrolled": true
   },
   "outputs": [
    {
     "data": {
      "text/plain": [
       "(0.0, 30.0)"
      ]
     },
     "execution_count": 37,
     "metadata": {},
     "output_type": "execute_result"
    },
    {
     "data": {
      "image/png": "[encoded data removed]",
      "text/plain": [
       "<Figure size 432x288 with 1 Axes>"
      ]
     },
     "metadata": {
      "needs_background": "light"
     },
     "output_type": "display_data"
    }
   ],
   "source": [
    "fig, ax = plt.subplots(figsize=(6, 4))\n",
    "\n",
    "#################### YOUR CODE HERE ####################\n",
    "\n",
    "\n",
    "\n",
    "########################################################\n",
    "\n",
    "plt.xlim(0, 30)\n",
    "\n",
    "# fig.savefig('Figures/hist_num_veh.pdf', bbox_inches='tight', dpi=300)"
   ]
  },
  {
   "cell_type": "markdown",
   "metadata": {},
   "source": [
    "<hr style=\"border: 1px solid gray\">\n",
    "\n",
    "## Task 4: Shockwave Analysis\n",
    "\n",
    "<hr style=\"border: 1px solid gray\">\n",
    "\n",
    "Use graphical methods to answer the questions in this section of the lab handout."
   ]
  },
  {
   "cell_type": "code",
   "execution_count": null,
   "metadata": {},
   "outputs": [],
   "source": []
  }
 ],
 "metadata": {
  "kernelspec": {
   "display_name": "Python 3",
   "language": "python",
   "name": "python3"
  },
  "language_info": {
   "codemirror_mode": {
    "name": "ipython",
    "version": 3
   },
   "file_extension": ".py",
   "mimetype": "text/x-python",
   "name": "python",
   "nbconvert_exporter": "python",
   "pygments_lexer": "ipython3",
   "version": "3.8.15"
  }
 },
 "nbformat": 4,
 "nbformat_minor": 4
}
